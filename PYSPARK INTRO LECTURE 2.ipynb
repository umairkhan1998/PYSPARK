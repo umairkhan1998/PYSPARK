{
 "cells": [
  {
   "cell_type": "markdown",
   "id": "32c71723",
   "metadata": {},
   "source": [
    "## Import The Libraries"
   ]
  },
  {
   "cell_type": "code",
   "execution_count": null,
   "id": "f6dbeab9",
   "metadata": {},
   "outputs": [],
   "source": [
    "import pyspark"
   ]
  },
  {
   "cell_type": "code",
   "execution_count": 2,
   "id": "e50f5d8e",
   "metadata": {},
   "outputs": [],
   "source": [
    "from pyspark.sql import SparkSession"
   ]
  },
  {
   "cell_type": "markdown",
   "id": "01aec3dd",
   "metadata": {},
   "source": [
    "### Create A Spark Session"
   ]
  },
  {
   "cell_type": "code",
   "execution_count": 3,
   "id": "ebac1ec8",
   "metadata": {},
   "outputs": [],
   "source": [
    "spark=SparkSession.builder.appName('DateFrame').getOrCreate()"
   ]
  },
  {
   "cell_type": "code",
   "execution_count": 4,
   "id": "889022f8",
   "metadata": {},
   "outputs": [
    {
     "data": {
      "text/html": [
       "\n",
       "            <div>\n",
       "                <p><b>SparkSession - in-memory</b></p>\n",
       "                \n",
       "        <div>\n",
       "            <p><b>SparkContext</b></p>\n",
       "\n",
       "            <p><a href=\"http://DESKTOP-KUS1IOS:4040\">Spark UI</a></p>\n",
       "\n",
       "            <dl>\n",
       "              <dt>Version</dt>\n",
       "                <dd><code>v3.5.1</code></dd>\n",
       "              <dt>Master</dt>\n",
       "                <dd><code>local[*]</code></dd>\n",
       "              <dt>AppName</dt>\n",
       "                <dd><code>DateFrame</code></dd>\n",
       "            </dl>\n",
       "        </div>\n",
       "        \n",
       "            </div>\n",
       "        "
      ],
      "text/plain": [
       "<pyspark.sql.session.SparkSession at 0x298d2dadb20>"
      ]
     },
     "execution_count": 4,
     "metadata": {},
     "output_type": "execute_result"
    }
   ],
   "source": [
    "spark"
   ]
  },
  {
   "cell_type": "markdown",
   "id": "3c1cff24",
   "metadata": {},
   "source": [
    "### reading data set\n"
   ]
  },
  {
   "cell_type": "code",
   "execution_count": 5,
   "id": "bb07f417",
   "metadata": {},
   "outputs": [],
   "source": [
    "data=spark.read.option('header','true').csv(r\"C:\\Users\\Dell\\Desktop\\Pyspark....csv\",inferSchema=True)"
   ]
  },
  {
   "cell_type": "code",
   "execution_count": 6,
   "id": "97222dde",
   "metadata": {},
   "outputs": [
    {
     "name": "stdout",
     "output_type": "stream",
     "text": [
      "+-----------+---+----------+\n",
      "|       Name|Age|Experience|\n",
      "+-----------+---+----------+\n",
      "|   Dr.Tariq| 50|      25.0|\n",
      "| Umair khan| 23|       1.0|\n",
      "|Farooq Niaz| 25|       1.0|\n",
      "| Atta ullah| 24|       1.0|\n",
      "|Nasir Jamal| 34|       9.0|\n",
      "|      Bilal| 36|       5.0|\n",
      "|Hamza Saeed| 16|       0.4|\n",
      "+-----------+---+----------+\n",
      "\n"
     ]
    }
   ],
   "source": [
    "data.show()"
   ]
  },
  {
   "cell_type": "markdown",
   "id": "1e656183",
   "metadata": {},
   "source": [
    "### checking types of schema"
   ]
  },
  {
   "cell_type": "code",
   "execution_count": 7,
   "id": "4040dc9d",
   "metadata": {},
   "outputs": [
    {
     "name": "stdout",
     "output_type": "stream",
     "text": [
      "root\n",
      " |-- Name: string (nullable = true)\n",
      " |-- Age: integer (nullable = true)\n",
      " |-- Experience: double (nullable = true)\n",
      "\n"
     ]
    }
   ],
   "source": [
    "data.printSchema() # BEFORE INFERSCHEMA = TRUE, THE DATA TYPE WAS SAME."
   ]
  },
  {
   "cell_type": "code",
   "execution_count": 8,
   "id": "e3fe8cfe",
   "metadata": {},
   "outputs": [
    {
     "data": {
      "text/plain": [
       "pyspark.sql.dataframe.DataFrame"
      ]
     },
     "execution_count": 8,
     "metadata": {},
     "output_type": "execute_result"
    }
   ],
   "source": [
    "type(data)"
   ]
  },
  {
   "cell_type": "code",
   "execution_count": 9,
   "id": "fb57ed63",
   "metadata": {},
   "outputs": [
    {
     "data": {
      "text/plain": [
       "[('Name', 'string'), ('Age', 'int'), ('Experience', 'double')]"
      ]
     },
     "execution_count": 9,
     "metadata": {},
     "output_type": "execute_result"
    }
   ],
   "source": [
    "data.dtypes"
   ]
  },
  {
   "cell_type": "code",
   "execution_count": 10,
   "id": "a3a0c544",
   "metadata": {},
   "outputs": [
    {
     "data": {
      "text/plain": [
       "[Row(Name='Nasir Jamal', Age=34, Experience=9.0),\n",
       " Row(Name='Bilal', Age=36, Experience=5.0),\n",
       " Row(Name='Hamza Saeed', Age=16, Experience=0.4)]"
      ]
     },
     "execution_count": 10,
     "metadata": {},
     "output_type": "execute_result"
    }
   ],
   "source": [
    "data.tail(3)"
   ]
  },
  {
   "cell_type": "markdown",
   "id": "503c8275",
   "metadata": {},
   "source": [
    "### Selecting Columns and Indexing"
   ]
  },
  {
   "cell_type": "code",
   "execution_count": 11,
   "id": "8f3cf566",
   "metadata": {},
   "outputs": [
    {
     "name": "stdout",
     "output_type": "stream",
     "text": [
      "+-----------+---+\n",
      "|       Name|Age|\n",
      "+-----------+---+\n",
      "|   Dr.Tariq| 50|\n",
      "| Umair khan| 23|\n",
      "|Farooq Niaz| 25|\n",
      "| Atta ullah| 24|\n",
      "|Nasir Jamal| 34|\n",
      "|      Bilal| 36|\n",
      "|Hamza Saeed| 16|\n",
      "+-----------+---+\n",
      "\n"
     ]
    }
   ],
   "source": [
    "data.select(['Name','Age']).show()"
   ]
  },
  {
   "cell_type": "markdown",
   "id": "7c6513b8",
   "metadata": {},
   "source": [
    "### Checking Describe Option similar to Pandas"
   ]
  },
  {
   "cell_type": "code",
   "execution_count": 12,
   "id": "64fba92e",
   "metadata": {},
   "outputs": [
    {
     "name": "stdout",
     "output_type": "stream",
     "text": [
      "+-------+----------+------------------+-----------------+\n",
      "|summary|      Name|               Age|       Experience|\n",
      "+-------+----------+------------------+-----------------+\n",
      "|  count|         7|                 7|                7|\n",
      "|   mean|      NULL|29.714285714285715|6.057142857142857|\n",
      "| stddev|      NULL|11.235572759681423|8.919427698916028|\n",
      "|    min|Atta ullah|                16|              0.4|\n",
      "|    max|Umair khan|                50|             25.0|\n",
      "+-------+----------+------------------+-----------------+\n",
      "\n"
     ]
    }
   ],
   "source": [
    "data.describe().show()"
   ]
  },
  {
   "cell_type": "markdown",
   "id": "91fd490e",
   "metadata": {},
   "source": [
    "### Adding and Droping Columns\n"
   ]
  },
  {
   "cell_type": "code",
   "execution_count": 13,
   "id": "af583dea",
   "metadata": {},
   "outputs": [],
   "source": [
    "#adding columns in dataframe\n",
    "data = data.withColumn('Age after 2 years',data['Age']+2)\n"
   ]
  },
  {
   "cell_type": "code",
   "execution_count": 15,
   "id": "7b11a5a4",
   "metadata": {},
   "outputs": [
    {
     "name": "stdout",
     "output_type": "stream",
     "text": [
      "+-----------+---+----------+-----------------+\n",
      "|       Name|Age|Experience|Age after 2 years|\n",
      "+-----------+---+----------+-----------------+\n",
      "|   Dr.Tariq| 50|      25.0|               52|\n",
      "| Umair khan| 23|       1.0|               25|\n",
      "|Farooq Niaz| 25|       1.0|               27|\n",
      "| Atta ullah| 24|       1.0|               26|\n",
      "|Nasir Jamal| 34|       9.0|               36|\n",
      "|      Bilal| 36|       5.0|               38|\n",
      "|Hamza Saeed| 16|       0.4|               18|\n",
      "+-----------+---+----------+-----------------+\n",
      "\n"
     ]
    }
   ],
   "source": [
    "data.show()"
   ]
  },
  {
   "cell_type": "code",
   "execution_count": 17,
   "id": "d18215aa",
   "metadata": {},
   "outputs": [],
   "source": [
    "#Drop column\n",
    "after_drop=data.drop('Age')\n"
   ]
  },
  {
   "cell_type": "code",
   "execution_count": 19,
   "id": "e01df0eb",
   "metadata": {},
   "outputs": [
    {
     "name": "stdout",
     "output_type": "stream",
     "text": [
      "+-----------+----------+-----------------+\n",
      "|       Name|Experience|Age after 2 years|\n",
      "+-----------+----------+-----------------+\n",
      "|   Dr.Tariq|      25.0|               52|\n",
      "| Umair khan|       1.0|               25|\n",
      "|Farooq Niaz|       1.0|               27|\n",
      "| Atta ullah|       1.0|               26|\n",
      "|Nasir Jamal|       9.0|               36|\n",
      "|      Bilal|       5.0|               38|\n",
      "|Hamza Saeed|       0.4|               18|\n",
      "+-----------+----------+-----------------+\n",
      "\n"
     ]
    }
   ],
   "source": [
    "after_drop.show()"
   ]
  },
  {
   "cell_type": "markdown",
   "id": "dae7799f",
   "metadata": {},
   "source": [
    "### Rename header"
   ]
  },
  {
   "cell_type": "code",
   "execution_count": 21,
   "id": "df9a7f1f",
   "metadata": {},
   "outputs": [],
   "source": [
    "up_data=after_drop.withColumnRenamed('Name','Full Name')"
   ]
  },
  {
   "cell_type": "code",
   "execution_count": 23,
   "id": "6ed759f9",
   "metadata": {},
   "outputs": [
    {
     "name": "stdout",
     "output_type": "stream",
     "text": [
      "+-----------+----------+-----------------+\n",
      "|  Full Name|Experience|Age after 2 years|\n",
      "+-----------+----------+-----------------+\n",
      "|   Dr.Tariq|      25.0|               52|\n",
      "| Umair khan|       1.0|               25|\n",
      "|Farooq Niaz|       1.0|               27|\n",
      "| Atta ullah|       1.0|               26|\n",
      "|Nasir Jamal|       9.0|               36|\n",
      "|      Bilal|       5.0|               38|\n",
      "|Hamza Saeed|       0.4|               18|\n",
      "+-----------+----------+-----------------+\n",
      "\n"
     ]
    }
   ],
   "source": [
    "up_data.show()"
   ]
  },
  {
   "cell_type": "markdown",
   "id": "d8798609",
   "metadata": {},
   "source": [
    "### Congratulations you have completed basics of pyspark! Great job!\n"
   ]
  },
  {
   "cell_type": "code",
   "execution_count": null,
   "id": "cb59d5e0",
   "metadata": {},
   "outputs": [],
   "source": []
  }
 ],
 "metadata": {
  "kernelspec": {
   "display_name": "Python 3 (ipykernel)",
   "language": "python",
   "name": "python3"
  },
  "language_info": {
   "codemirror_mode": {
    "name": "ipython",
    "version": 3
   },
   "file_extension": ".py",
   "mimetype": "text/x-python",
   "name": "python",
   "nbconvert_exporter": "python",
   "pygments_lexer": "ipython3",
   "version": "3.9.13"
  }
 },
 "nbformat": 4,
 "nbformat_minor": 5
}
